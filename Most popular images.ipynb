{
 "cells": [
  {
   "cell_type": "code",
   "execution_count": 1,
   "metadata": {
    "collapsed": false
   },
   "outputs": [],
   "source": [
    "# WARNING! Be sure to change the line that reads the .csv file, below, should be line 47\n",
    "# If it doesn't work, you'll need to make the path point to your copy of that file (which should be in this folder)\n",
    "\n",
    "# We need to import these modules to get started\n",
    "import numpy as np\n",
    "import pandas as pd\n",
    "import os\n",
    "import sys\n",
    "import matplotlib.pyplot as plt\n",
    "from allensdk.core.brain_observatory_cache import BrainObservatoryCache\n",
    "\n",
    "# The dynamic brain database is on an external hard drive.\n",
    "#drive_path = '/Volumes/Brain2016'\n",
    "drive_path= 'd:'\n",
    "manifest_path = os.path.join(drive_path, 'BrainObservatory/manifest.json')\n",
    "boc = BrainObservatoryCache(manifest_file=manifest_path)\n",
    "expt_containers = boc.get_experiment_containers()\n",
    "\n",
    "# Things I will want eventually:\n",
    "# 1. A dataframe with columns for...\n",
    "#\ta. all the identifiers from the brain observatory\n",
    "#\tb. the preferred directions from the grating and place field stimuli\n",
    "# 2. A numpy array which is N_neurons x N_timesamples, where entry i,j is 1 or 0 based on whether\n",
    "#\t the neuron was \"firing\" at that point (how we decide that we'll get to later\n",
    "\n",
    "# Data frames first:\n",
    "# expt_containers_df = pd.DataFrame(expt_containers)\n",
    "\n",
    "# The stimuli I'm interested in are basically everything except the natural movie and natural scenes\n",
    "# If we want other stimuli, add them here.\n",
    "non_movie_stimuli = ['drifting_gratings', 'locally_sparse_noise', 'spontaneous', 'static_gratings']\n",
    "\n",
    "all_expts_df = pd.DataFrame(boc.get_ophys_experiments(stimuli=non_movie_stimuli))\n",
    "# this has headers:\n",
    "# age_days\tcre_line\texperiment_container_id\tid\timaging_depth\tsession_type\ttargeted_structure\n",
    "\n",
    "# seems like I can use get_cell_speciments to get everything I'm after\n",
    "specimens_df = pd.DataFrame(boc.get_cell_specimens(experiment_container_ids=all_expts_df.experiment_container_id.values))\n",
    "# this has headers:\n",
    "# area\tcell_specimen_id\tdsi_dg\texperiment_container_id\timaging_depth\tosi_dg\tosi_sg\tp_dg\tp_ns\tp_sg\n",
    "# pref_dir_dg\tpref_image_ns\tpref_ori_sg\tpref_phase_sg\tpref_sf_sg\tpref_tf_dg\ttime_to_peak_ns\ttime_to_peak_sg\n",
    "# tld1_id\ttld1_name\ttld2_id\ttld2_name\ttlr1_id\ttlr1_name\n",
    "\n",
    "# There's also a handy bit of data from Saskia, in the form of a measurement called S. See\n",
    "# Decoding Visual Inputs From Multiple Neurons in the Human Temporal Lobe, J. Neurophys 2007, by Quiroga et al\n",
    "\n",
    "\n",
    "selectivity_S_df = pd.read_csv(os.path.join(drive_path, '/BrainObservatory/image_selectivity_dataframe.csv'), index_col=0)\n",
    "selectivity_S_df = selectivity_S_df[['cell_specimen_id', 'selectivity_ns']]\n",
    "\n",
    "specimens_with_selectivity_S = specimens_df.merge(selectivity_S_df,how='outer', on='cell_specimen_id')\n",
    "\n",
    "# This is all cells in VISp that have a value for the specified parameters (i.e not NaN)\n",
    "# Discards rows NaN in the columns specified below.\n",
    "discard_nan = [\n",
    "\t'selectivity_ns',\n",
    "\t'osi_sg',\n",
    "\t'osi_dg',\n",
    "\t'time_to_peak_ns',\n",
    "\t'time_to_peak_sg',\n",
    "]"
   ]
  },
  {
   "cell_type": "code",
   "execution_count": 2,
   "metadata": {
    "collapsed": true
   },
   "outputs": [],
   "source": [
    "VIS_cells_with_numbers = specimens_with_selectivity_S[specimens_with_selectivity_S.area == 'VISp']\n",
    "for col_name in discard_nan:\n",
    "\tVIS_cells_with_numbers = VIS_cells_with_numbers[np.isnan(VIS_cells_with_numbers[col_name])==False]\n",
    "    "
   ]
  },
  {
   "cell_type": "code",
   "execution_count": 3,
   "metadata": {
    "collapsed": false,
    "scrolled": true
   },
   "outputs": [
    {
     "name": "stdout",
     "output_type": "stream",
     "text": [
      "[511498742 511506664 511507144 511507811 511507650 511509529 511510650\n",
      " 511510718 511510670 511510884 511510955 511510911 512124562 511510758\n",
      " 511510736 511510667 511510896 511510927 511510974 511510855 511510699\n",
      " 511510779 511510675 511510989 511510635]\n"
     ]
    },
    {
     "data": {
      "text/html": [
       "<div>\n",
       "<table border=\"1\" class=\"dataframe\">\n",
       "  <thead>\n",
       "    <tr style=\"text-align: right;\">\n",
       "      <th></th>\n",
       "      <th>area</th>\n",
       "      <th>cell_specimen_id</th>\n",
       "      <th>dsi_dg</th>\n",
       "      <th>experiment_container_id</th>\n",
       "      <th>imaging_depth</th>\n",
       "      <th>osi_dg</th>\n",
       "      <th>osi_sg</th>\n",
       "      <th>p_dg</th>\n",
       "      <th>p_ns</th>\n",
       "      <th>p_sg</th>\n",
       "      <th>...</th>\n",
       "      <th>pref_tf_dg</th>\n",
       "      <th>time_to_peak_ns</th>\n",
       "      <th>time_to_peak_sg</th>\n",
       "      <th>tld1_id</th>\n",
       "      <th>tld1_name</th>\n",
       "      <th>tld2_id</th>\n",
       "      <th>tld2_name</th>\n",
       "      <th>tlr1_id</th>\n",
       "      <th>tlr1_name</th>\n",
       "      <th>selectivity_ns</th>\n",
       "    </tr>\n",
       "  </thead>\n",
       "  <tbody>\n",
       "    <tr>\n",
       "      <th>381</th>\n",
       "      <td>VISp</td>\n",
       "      <td>517397361</td>\n",
       "      <td>0.697331</td>\n",
       "      <td>511498742</td>\n",
       "      <td>350</td>\n",
       "      <td>1.388875</td>\n",
       "      <td>1.210908</td>\n",
       "      <td>0.000002</td>\n",
       "      <td>3.065294e-18</td>\n",
       "      <td>1.111408e-01</td>\n",
       "      <td>...</td>\n",
       "      <td>1.0</td>\n",
       "      <td>0.33250</td>\n",
       "      <td>0.26600</td>\n",
       "      <td>177837516</td>\n",
       "      <td>Scnn1a-Tg3-Cre</td>\n",
       "      <td>177837320</td>\n",
       "      <td>Camk2a-tTA</td>\n",
       "      <td>265943423</td>\n",
       "      <td>Ai93(TITL-GCaMP6f)</td>\n",
       "      <td>0.586288</td>\n",
       "    </tr>\n",
       "    <tr>\n",
       "      <th>382</th>\n",
       "      <td>VISp</td>\n",
       "      <td>517397365</td>\n",
       "      <td>3.640992</td>\n",
       "      <td>511498742</td>\n",
       "      <td>350</td>\n",
       "      <td>0.907149</td>\n",
       "      <td>1.994455</td>\n",
       "      <td>0.002307</td>\n",
       "      <td>2.121158e-13</td>\n",
       "      <td>7.670954e-03</td>\n",
       "      <td>...</td>\n",
       "      <td>1.0</td>\n",
       "      <td>0.29925</td>\n",
       "      <td>0.26600</td>\n",
       "      <td>177837516</td>\n",
       "      <td>Scnn1a-Tg3-Cre</td>\n",
       "      <td>177837320</td>\n",
       "      <td>Camk2a-tTA</td>\n",
       "      <td>265943423</td>\n",
       "      <td>Ai93(TITL-GCaMP6f)</td>\n",
       "      <td>0.513627</td>\n",
       "    </tr>\n",
       "    <tr>\n",
       "      <th>383</th>\n",
       "      <td>VISp</td>\n",
       "      <td>517397369</td>\n",
       "      <td>1.818350</td>\n",
       "      <td>511498742</td>\n",
       "      <td>350</td>\n",
       "      <td>0.793207</td>\n",
       "      <td>0.829441</td>\n",
       "      <td>0.000088</td>\n",
       "      <td>1.675675e-11</td>\n",
       "      <td>8.678658e-05</td>\n",
       "      <td>...</td>\n",
       "      <td>1.0</td>\n",
       "      <td>0.16625</td>\n",
       "      <td>0.16625</td>\n",
       "      <td>177837516</td>\n",
       "      <td>Scnn1a-Tg3-Cre</td>\n",
       "      <td>177837320</td>\n",
       "      <td>Camk2a-tTA</td>\n",
       "      <td>265943423</td>\n",
       "      <td>Ai93(TITL-GCaMP6f)</td>\n",
       "      <td>0.150966</td>\n",
       "    </tr>\n",
       "    <tr>\n",
       "      <th>384</th>\n",
       "      <td>VISp</td>\n",
       "      <td>517397373</td>\n",
       "      <td>0.410803</td>\n",
       "      <td>511498742</td>\n",
       "      <td>350</td>\n",
       "      <td>2.074779</td>\n",
       "      <td>0.588888</td>\n",
       "      <td>0.002205</td>\n",
       "      <td>1.632841e-23</td>\n",
       "      <td>1.870294e-07</td>\n",
       "      <td>...</td>\n",
       "      <td>15.0</td>\n",
       "      <td>0.29925</td>\n",
       "      <td>0.19950</td>\n",
       "      <td>177837516</td>\n",
       "      <td>Scnn1a-Tg3-Cre</td>\n",
       "      <td>177837320</td>\n",
       "      <td>Camk2a-tTA</td>\n",
       "      <td>265943423</td>\n",
       "      <td>Ai93(TITL-GCaMP6f)</td>\n",
       "      <td>0.462508</td>\n",
       "    </tr>\n",
       "    <tr>\n",
       "      <th>385</th>\n",
       "      <td>VISp</td>\n",
       "      <td>517397377</td>\n",
       "      <td>1.176431</td>\n",
       "      <td>511498742</td>\n",
       "      <td>350</td>\n",
       "      <td>1.317674</td>\n",
       "      <td>1.070871</td>\n",
       "      <td>0.007289</td>\n",
       "      <td>1.429351e-07</td>\n",
       "      <td>1.556623e-12</td>\n",
       "      <td>...</td>\n",
       "      <td>2.0</td>\n",
       "      <td>0.29925</td>\n",
       "      <td>0.29925</td>\n",
       "      <td>177837516</td>\n",
       "      <td>Scnn1a-Tg3-Cre</td>\n",
       "      <td>177837320</td>\n",
       "      <td>Camk2a-tTA</td>\n",
       "      <td>265943423</td>\n",
       "      <td>Ai93(TITL-GCaMP6f)</td>\n",
       "      <td>0.385254</td>\n",
       "    </tr>\n",
       "  </tbody>\n",
       "</table>\n",
       "<p>5 rows × 25 columns</p>\n",
       "</div>"
      ],
      "text/plain": [
       "     area  cell_specimen_id    dsi_dg  experiment_container_id  imaging_depth  \\\n",
       "381  VISp         517397361  0.697331                511498742            350   \n",
       "382  VISp         517397365  3.640992                511498742            350   \n",
       "383  VISp         517397369  1.818350                511498742            350   \n",
       "384  VISp         517397373  0.410803                511498742            350   \n",
       "385  VISp         517397377  1.176431                511498742            350   \n",
       "\n",
       "       osi_dg    osi_sg      p_dg          p_ns          p_sg      ...        \\\n",
       "381  1.388875  1.210908  0.000002  3.065294e-18  1.111408e-01      ...         \n",
       "382  0.907149  1.994455  0.002307  2.121158e-13  7.670954e-03      ...         \n",
       "383  0.793207  0.829441  0.000088  1.675675e-11  8.678658e-05      ...         \n",
       "384  2.074779  0.588888  0.002205  1.632841e-23  1.870294e-07      ...         \n",
       "385  1.317674  1.070871  0.007289  1.429351e-07  1.556623e-12      ...         \n",
       "\n",
       "     pref_tf_dg  time_to_peak_ns  time_to_peak_sg    tld1_id       tld1_name  \\\n",
       "381         1.0          0.33250          0.26600  177837516  Scnn1a-Tg3-Cre   \n",
       "382         1.0          0.29925          0.26600  177837516  Scnn1a-Tg3-Cre   \n",
       "383         1.0          0.16625          0.16625  177837516  Scnn1a-Tg3-Cre   \n",
       "384        15.0          0.29925          0.19950  177837516  Scnn1a-Tg3-Cre   \n",
       "385         2.0          0.29925          0.29925  177837516  Scnn1a-Tg3-Cre   \n",
       "\n",
       "       tld2_id   tld2_name    tlr1_id           tlr1_name selectivity_ns  \n",
       "381  177837320  Camk2a-tTA  265943423  Ai93(TITL-GCaMP6f)       0.586288  \n",
       "382  177837320  Camk2a-tTA  265943423  Ai93(TITL-GCaMP6f)       0.513627  \n",
       "383  177837320  Camk2a-tTA  265943423  Ai93(TITL-GCaMP6f)       0.150966  \n",
       "384  177837320  Camk2a-tTA  265943423  Ai93(TITL-GCaMP6f)       0.462508  \n",
       "385  177837320  Camk2a-tTA  265943423  Ai93(TITL-GCaMP6f)       0.385254  \n",
       "\n",
       "[5 rows x 25 columns]"
      ]
     },
     "execution_count": 3,
     "metadata": {},
     "output_type": "execute_result"
    }
   ],
   "source": [
    "exp_conts = VIS_cells_with_numbers[\"experiment_container_id\"].unique()\n",
    "print (exp_conts)\n",
    "\n",
    "all_tables = {ID:VIS_cells_with_numbers[VIS_cells_with_numbers[\"experiment_container_id\"]==ID]\n",
    "for ID in exp_conts}\n",
    "\n",
    "all_tables[511498742].head()"
   ]
  },
  {
   "cell_type": "code",
   "execution_count": 4,
   "metadata": {
    "collapsed": false,
    "scrolled": true
   },
   "outputs": [],
   "source": [
    "#print(VIS_cells_with_numbers.keys())"
   ]
  },
  {
   "cell_type": "code",
   "execution_count": 5,
   "metadata": {
    "collapsed": false
   },
   "outputs": [],
   "source": [
    "#print(VIS_cells_with_numbers[\"pref_image_ns\"].unique())\n",
    "#len(VIS_cells_with_numbers[\"pref_image_ns\"].unique())"
   ]
  },
  {
   "cell_type": "code",
   "execution_count": 6,
   "metadata": {
    "collapsed": false
   },
   "outputs": [],
   "source": [
    "# very long, uncomment only if you wish to see number of cells that prefer EACH image\n",
    "\n",
    "#print(\"# of total cells according to their preferred image: \")\n",
    "#for image in sorted(VIS_cells_with_numbers[\"pref_image_ns\"].unique()):\n",
    "#    print (\"prefer image #\"+str(int(image))+\":  \"+str(len(VIS_cells_with_numbers\n",
    "#                                         [VIS_cells_with_numbers[\"pref_image_ns\"]==image]))+\" cells\")"
   ]
  },
  {
   "cell_type": "code",
   "execution_count": 7,
   "metadata": {
    "collapsed": false
   },
   "outputs": [
    {
     "data": {
      "text/plain": [
       "{'exID': 511498742,\n",
       " 'max cells': 10,\n",
       " 'percent': 6.289308176100629,\n",
       " 'preferred image': 29,\n",
       " 'total cells': 159}"
      ]
     },
     "execution_count": 7,
     "metadata": {},
     "output_type": "execute_result"
    }
   ],
   "source": [
    "image_list =[]\n",
    "\n",
    "for exID in exp_conts:\n",
    "    df = all_tables[exID]\n",
    "\n",
    "    #print(\"cell totals per preferred image group:\") \n",
    "   \n",
    "    image_ns_prefs = [len(df[df[\"pref_image_ns\"]==image])\n",
    "                      for image in sorted(df[\"pref_image_ns\"].unique())]\n",
    "    \n",
    "    #print(image_ns_prefs) #list of cells\n",
    "    #print('')\n",
    "    #print(\"total cells in all groups:\")\n",
    "    total_ns_pref = sum(image_ns_prefs)\n",
    "    #print(total_ns_pref)\n",
    "    #print('')\n",
    "\n",
    "    #print(\"largest group of cells:\")\n",
    "    max_ns_prefs = np.max(image_ns_prefs) #max number cells with preferred static image       \n",
    "    #print(max_ns_prefs)\n",
    "    #print('')\n",
    "\n",
    "    #print(\"percent of total cells:\")\n",
    "    per_ns_pref = (float(max_ns_prefs)/float(total_ns_pref))*100\n",
    "    #print (str(per_ns_pref)+ \" = roughly \"+str(round(per_ns_pref*100))+\"%\")\n",
    "    #print(\"\")\n",
    "\n",
    "    #print(\"most preferred image(s):\")\n",
    "    for image in sorted(df[\"pref_image_ns\"].unique()):\n",
    "        if(((len(df[df[\"pref_image_ns\"]==image])))==max_ns_prefs):                \n",
    "            pref_image=int(image)\n",
    "            \n",
    "    image_dict = {\"exID\":exID,\"total cells\":total_ns_pref,\"max cells\":max_ns_prefs,\"percent\":per_ns_pref,\"preferred image\":pref_image}\n",
    "    \n",
    "    image_list.append(image_dict)\n",
    "    \n",
    "image_list[0]"
   ]
  },
  {
   "cell_type": "code",
   "execution_count": 10,
   "metadata": {
    "collapsed": false
   },
   "outputs": [
    {
     "name": "stdout",
     "output_type": "stream",
     "text": [
      "[6.289308176100629, 8.974358974358974, 5.555555555555555, 3.7593984962406015, 4.901960784313726, 4.761904761904762, 5.5045871559633035, 6.557377049180328, 4.954954954954955, 8.411214953271028, 8.536585365853659, 6.2857142857142865, 5.88235294117647, 6.122448979591836, 5.454545454545454, 4.571428571428571, 6.382978723404255, 4.3478260869565215, 4.195804195804196, 4.597701149425287, 4.602510460251046, 4.435483870967742, 4.66321243523316, 13.043478260869565, 7.4074074074074066]\n"
     ]
    }
   ],
   "source": [
    "#Percentages of total cells that prefer popular image\n",
    "\n",
    "percent_list = [percent[\"percent\"] for percent in image_list]\n",
    "print(percent_list)"
   ]
  },
  {
   "cell_type": "code",
   "execution_count": 12,
   "metadata": {
    "collapsed": false
   },
   "outputs": [
    {
     "name": "stdout",
     "output_type": "stream",
     "text": [
      "25\n",
      "16\n",
      "[29, 110, 29, 105, 49, 24, 86, 43, 85, 56, 85, 25, 111, 32, 86, 111, 105, 45, 111, 25, 86, 36, 106, 108, 105]\n"
     ]
    }
   ],
   "source": [
    "#Total pop images - just a check\n",
    "pop_image_list = [pop_image[\"preferred image\"] for pop_image in image_list]\n",
    "print(len(pop_image_list))\n",
    "\n",
    "# Unique popular images\n",
    "unique_images = set(pop_image_list)\n",
    "print(len(unique_images))\n",
    "\n",
    "#Popular image IDs\n",
    "print (pop_image_list)"
   ]
  },
  {
   "cell_type": "code",
   "execution_count": null,
   "metadata": {
    "collapsed": true
   },
   "outputs": [],
   "source": []
  }
 ],
 "metadata": {
  "anaconda-cloud": {},
  "kernelspec": {
   "display_name": "Python [Root]",
   "language": "python",
   "name": "Python [Root]"
  },
  "language_info": {
   "codemirror_mode": {
    "name": "ipython",
    "version": 2
   },
   "file_extension": ".py",
   "mimetype": "text/x-python",
   "name": "python",
   "nbconvert_exporter": "python",
   "pygments_lexer": "ipython2",
   "version": "2.7.12"
  }
 },
 "nbformat": 4,
 "nbformat_minor": 0
}
